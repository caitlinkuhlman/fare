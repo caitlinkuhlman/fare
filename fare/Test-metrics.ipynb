{
 "cells": [
  {
   "cell_type": "code",
   "execution_count": 1,
   "metadata": {},
   "outputs": [
    {
     "ename": "ModuleNotFoundError",
     "evalue": "No module named 'metrics'",
     "output_type": "error",
     "traceback": [
      "\u001b[1;31m---------------------------------------------------------------------------\u001b[0m",
      "\u001b[1;31mModuleNotFoundError\u001b[0m                       Traceback (most recent call last)",
      "\u001b[1;32m<ipython-input-1-3dedb7e8b821>\u001b[0m in \u001b[0;36m<module>\u001b[1;34m()\u001b[0m\n\u001b[0;32m      3\u001b[0m \u001b[1;32mfrom\u001b[0m \u001b[0msklearn\u001b[0m \u001b[1;32mimport\u001b[0m \u001b[0mmanifold\u001b[0m\u001b[1;33m,\u001b[0m \u001b[0mdatasets\u001b[0m\u001b[1;33m\u001b[0m\u001b[0m\n\u001b[0;32m      4\u001b[0m \u001b[1;32mimport\u001b[0m \u001b[0mitertools\u001b[0m\u001b[1;33m\u001b[0m\u001b[0m\n\u001b[1;32m----> 5\u001b[1;33m \u001b[1;32mfrom\u001b[0m \u001b[0mmetrics\u001b[0m \u001b[1;32mimport\u001b[0m \u001b[1;33m*\u001b[0m\u001b[1;33m\u001b[0m\u001b[0m\n\u001b[0m",
      "\u001b[1;31mModuleNotFoundError\u001b[0m: No module named 'metrics'"
     ]
    }
   ],
   "source": [
    "import numpy as np\n",
    "import matplotlib.pyplot as plt\n",
    "from sklearn import manifold, datasets\n",
    "import itertools\n",
    "from metrics import *"
   ]
  },
  {
   "cell_type": "code",
   "execution_count": 2,
   "metadata": {},
   "outputs": [
    {
     "name": "stdout",
     "output_type": "stream",
     "text": [
      "Equality (0.33333333333333331, 0.0)\n",
      "Calibration (0.33333333333333331, 0.16666666666666666)\n",
      "Parity (0.0, 1.0)\n"
     ]
    }
   ],
   "source": [
    "# example with continuous values\n",
    "y_true = [7, -0.5, 2, 3]\n",
    "y_pred = [2.5, 0.0, 2, 8]\n",
    "groups = [1, 1, 1, 0]\n",
    "print(\"Equality\",rank_equality(y_true, y_pred, groups))\n",
    "print(\"Calibration\",rank_calibration(y_true, y_pred, groups))\n",
    "print(\"Parity\",rank_parity(y_pred,groups))"
   ]
  },
  {
   "cell_type": "code",
   "execution_count": 3,
   "metadata": {},
   "outputs": [
    {
     "name": "stdout",
     "output_type": "stream",
     "text": [
      "Equality Expected: (0.0, 0.0)\n",
      "Equality computed: (0.0, 0.0)\n",
      "\n",
      "Calibration Expected: (0.0, 0.0)\n",
      "Calibration computed: (0.0, 0.0)\n",
      "\n",
      "Parity Expected: (0.0, 0.1)\n",
      "Parity computed: (0.0, 1.0)\n",
      "\n",
      "Parity Expected: (1.0, 0.0)\n",
      "Parity computed: (1.0, 0.0)\n",
      "\n",
      "Parity Expected: (1.0, 0.0)\n",
      "Parity computed: (1.0, 0.0)\n",
      "\n",
      "Parity Expected: (0.0, 1.0)\n",
      "Parity computed: (0.0, 1.0)\n"
     ]
    }
   ],
   "source": [
    "y_true = [1,2,3,4,5,6,7,8]\n",
    "y_pred = [1,2,3,4,5,6,7,8]\n",
    "groups = [1,1,1,1,1,0,0,0]\n",
    "\n",
    "print(\"Equality\",\"Expected: (0.0, 0.0)\")\n",
    "print(\"Equality computed:\", rank_equality(y_true, y_pred, groups))\n",
    "# solution: no error\n",
    "print()\n",
    "print(\"Calibration\",\"Expected: (0.0, 0.0)\")\n",
    "print(\"Calibration computed:\",rank_calibration(y_true, y_pred, groups))\n",
    "# solution: no error\n",
    "print()\n",
    "print(\"Parity\",\"Expected: (0.0, 0.1)\")\n",
    "print(\"Parity computed:\",rank_parity(y_pred,groups))\n",
    "# solution: group1 always favored\n",
    "print()\n",
    "groups = [0,0,0,1,1,1,1,1]\n",
    "print(\"Parity\",\"Expected: (1.0, 0.0)\")\n",
    "print(\"Parity computed:\",rank_parity(y_pred,groups))\n",
    "#solution:  (1.0,0.0)\n",
    "print()\n",
    "groups = [0,0,0,0,0,0,0,0]\n",
    "print(\"Parity\",\"Expected: (1.0, 0.0)\")\n",
    "print(\"Parity computed:\",rank_parity(y_pred,groups))\n",
    "#solution:  group0 always preferred\n",
    "print()\n",
    "groups = [1,1,1,1,1,1,1,1]\n",
    "print(\"Parity\",\"Expected: (0.0, 1.0)\")\n",
    "print(\"Parity computed:\",rank_parity(y_pred,groups))\n",
    "# solution: group1 always preferred"
   ]
  },
  {
   "cell_type": "code",
   "execution_count": 4,
   "metadata": {},
   "outputs": [
    {
     "name": "stdout",
     "output_type": "stream",
     "text": [
      "equality (0.88888888888888884, 0.1111111111111111)\n",
      "calibration (1.0, 1.0)\n",
      "parity (0.1111111111111111, 0.88888888888888884)\n"
     ]
    }
   ],
   "source": [
    "y_true = [0,1,2,3,4,5]\n",
    "y_pred = [5,4,3,2,1,0]\n",
    "groups = [0,0,1,0,1,1]\n",
    "\n",
    "print(\"equality\", rank_equality(y_true,y_pred,groups))\n",
    "# solution: (0.8888888888888888, 0.1111111111111111)\n",
    "\n",
    "print(\"calibration\", rank_calibration(y_true,y_pred,groups))\n",
    "# solution: (1.0, 1.0)\n",
    "      \n",
    "print(\"parity\", rank_parity(y_pred,groups))\n",
    "# solution: (0.1111111111111111, 0.8888888888888888)\n",
    "# parity has same values as equality because all pairs are inverted.\n",
    "# The order is opposite because y_pred orders the groups in reverse.\n"
   ]
  },
  {
   "cell_type": "code",
   "execution_count": 6,
   "metadata": {
    "scrolled": false
   },
   "outputs": [
    {
     "name": "stdout",
     "output_type": "stream",
     "text": [
      "equality (0.25, 0.0)\n",
      "calibration (0.20000000000000001, 0.40000000000000002)\n",
      "parity (0.5, 0.5)\n"
     ]
    }
   ],
   "source": [
    "# example from paper\n",
    "y_true = [1,2,3,4]\n",
    "y_pred = [1,3,4,2]\n",
    "groups =[0,1,0,1]\n",
    "print(\"equality\",rank_equality(y_true, y_pred, groups))\n",
    "# solution: (0.25, 0.0)\n",
    "print(\"calibration\",rank_calibration(y_true, y_pred, groups))\n",
    "# solution: (0.2, 0.4)\n",
    "print(\"parity\",rank_parity(y_pred,groups))\n",
    "# solution: (0.5, 0.5)"
   ]
  },
  {
   "cell_type": "code",
   "execution_count": null,
   "metadata": {
    "collapsed": true
   },
   "outputs": [],
   "source": []
  }
 ],
 "metadata": {
  "kernelspec": {
   "display_name": "Python 3",
   "language": "python",
   "name": "python3"
  }
 },
 "nbformat": 4,
 "nbformat_minor": 2
}
